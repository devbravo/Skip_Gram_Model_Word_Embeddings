{
 "cells": [
  {
   "cell_type": "code",
   "execution_count": 1,
   "metadata": {},
   "outputs": [],
   "source": [
    "import os\n",
    "import re\n",
    "import torch\n",
    "import pickle\n",
    "import numpy as np\n",
    "import pandas as pd\n",
    "from tqdm import tqdm\n",
    "import torch.nn as nn\n",
    "import torch.optim as optim\n",
    "from collections import Counter\n",
    "from nltk.tokenize import word_tokenize"
   ]
  },
  {
   "attachments": {},
   "cell_type": "markdown",
   "metadata": {},
   "source": [
    "### Function to save and load files"
   ]
  },
  {
   "cell_type": "code",
   "execution_count": 2,
   "metadata": {},
   "outputs": [],
   "source": [
    "def save_file(name, obj):\n",
    "    with open(name, 'wb') as f:\n",
    "        pickle.dump(obj, f)\n",
    "\n",
    "def load_file(name):\n",
    "    return pickle.load(open(name, 'rb'))"
   ]
  },
  {
   "attachments": {},
   "cell_type": "markdown",
   "metadata": {},
   "source": [
    "## Data Processing"
   ]
  },
  {
   "cell_type": "code",
   "execution_count": 3,
   "metadata": {},
   "outputs": [],
   "source": [
    "tokens_path = 'Output/tokens.pkl'\n",
    "file_path = 'Input/complaints.csv'\n",
    "col_name = 'Consumer complaint narrative'"
   ]
  },
  {
   "cell_type": "code",
   "execution_count": 6,
   "metadata": {},
   "outputs": [
    {
     "data": {
      "text/plain": [
       "(2326246, 18)"
      ]
     },
     "execution_count": 6,
     "metadata": {},
     "output_type": "execute_result"
    }
   ],
   "source": [
    "data = pd.read_csv('../2. MultiClass classification/Input/complaints.csv')"
   ]
  },
  {
   "cell_type": "code",
   "execution_count": 7,
   "metadata": {},
   "outputs": [
    {
     "data": {
      "text/plain": [
       "(2326246, 18)"
      ]
     },
     "execution_count": 7,
     "metadata": {},
     "output_type": "execute_result"
    }
   ],
   "source": [
    "data.shape"
   ]
  },
  {
   "attachments": {},
   "cell_type": "markdown",
   "metadata": {},
   "source": [
    "### Drop missing values"
   ]
  },
  {
   "cell_type": "code",
   "execution_count": 8,
   "metadata": {},
   "outputs": [],
   "source": [
    "data.dropna(subset=[col_name], inplace=True)"
   ]
  },
  {
   "cell_type": "code",
   "execution_count": 9,
   "metadata": {},
   "outputs": [
    {
     "data": {
      "text/plain": [
       "(809343, 18)"
      ]
     },
     "execution_count": 9,
     "metadata": {},
     "output_type": "execute_result"
    }
   ],
   "source": [
    "data.shape"
   ]
  },
  {
   "cell_type": "code",
   "execution_count": 10,
   "metadata": {},
   "outputs": [],
   "source": [
    "input_text = data[col_name]"
   ]
  },
  {
   "cell_type": "code",
   "execution_count": 12,
   "metadata": {},
   "outputs": [
    {
     "data": {
      "text/plain": [
       "'I contacted Ally on Friday XX/XX/XXXX after falling behind on payments due to being out of work for a short period of time due to an illness. I chated with a representative after logging into my account regarding my opitions to ensure I protect my credit and bring my account current. \\n\\nShe advised me that before an extenstion could be done, I had to make a payment in the amount of {$270.00}. I reviewed my finances, as I am playing catch up on all my bills and made this payment on Monday XX/XX/XXXX. This rep advised me, once this payment posts to my account to contact Ally back for an extention or to have a payment deffered to the end of my loan. \\n\\nWith this in mind, I contacted Ally again today and chatted with XXXX. I explained all of the above and the information I was provided when I chatted with the rep last week. She asked several questions and advised me that a one or two month  extension/deffered payment could be done however partial payment is needed! WHAT? She advised me {$230.00} or there abouts would be due within 10 days from me accepting the agreement and then the remaining bal of {$150.00} or there abouts would be due in XX/XX/XXXX. In XX/XX/XXXX, my payments of {$380.00} per month would resume. \\n\\nIf this was the case, I SHOULD HAVE JUST BEEN OFFERED THIS WHEN I JUST MADE MY PAYMENT so that I could catch up on my bills. \\n\\nThis company was working with XXXX in New Jersey which has since closed most likely due to illegal practices, they changed my loan company to this company after I had signed paperwork for another, kill you with interest rates and has NEVER once considered refiancing my vechile for a lower interest rate ( due to the age of the vechile other companies will not take it ) and THEY DO NOT WORK WITH YOU!'"
      ]
     },
     "execution_count": 12,
     "metadata": {},
     "output_type": "execute_result"
    }
   ],
   "source": [
    "input_text[1]"
   ]
  },
  {
   "attachments": {},
   "cell_type": "markdown",
   "metadata": {},
   "source": [
    "### Convert text to lower case"
   ]
  },
  {
   "cell_type": "code",
   "execution_count": 15,
   "metadata": {},
   "outputs": [
    {
     "data": {
      "text/plain": [
       "'hello this complaint is against the three credit reporting companies. xxxx, trans union and xxxx. i noticed some discrepencies on my credit report so i put a credit freeze with xxxx.on xx/xx/2019. i then notified the three credit agencies previously stated with a writtent letter dated xx/xx/2019 requesting them to verifiy certain accounts showing on my report they were a bankruptcy and a bank account from xxxx xxxx xxxx. \\nthe response from xxxx and xxxx  was that it was verified through their third partner xxxx. that can not be correct because i have a freeze on my xxxx xxxx account since xx/xx/xxxx. which no one can obtain my report for anything until i unfreeze it. \\ni wrote xxxx and xxxx a second letter and mailed them on xx/xx/2019 telling them that they have lied when they said that they verified the two accounts in question using xxxx because i have a freeze on my account and when i called xxxx on xx/xx/2019 they stated that no one has requested or attempted access to my account this year. i told them that they are in violation of my consumer rights and demand that these two accounts be removed from my report immediately. only xxxx wrote back a letter dated xx/xx/2019 stating that xxxx verified the accounts and that i should talk to them if i have a complaint. \\n\\ntrans union never responded to my letter dated xx/xx/2019 to verifiy the two accounts in question since and the 30 plus days to investigate my claim has been expired. when i checked my credit report with transunion, it states that they too uses xxxx to verify the two accounts in question. i also wrote them a second letter and mailed it on xx/xx/2019 stating that they are in violation of my consumer rights and demand that these two accounts be removed from my report immediately. \\n\\nplease investigate these compnaies because what they are doing is wrong. they are using a third party that gives wrong information and attach it to your account and then tell you to fight them to get it corrected. no i dont have to fight because xxxx, xxxx and trans union all lied and said that xxxx verified and account which is impossible because my account with them is frozen and no one can access it but i. i demand that these items on my account that was not verified be removed from my account because they are in violation of my rights and not to mention, trans union did not even respond to my investigation request.'"
      ]
     },
     "execution_count": 15,
     "metadata": {},
     "output_type": "execute_result"
    }
   ],
   "source": [
    "input_text = [i.lower() for i in input_text]\n",
    "input_text[1]"
   ]
  },
  {
   "attachments": {},
   "cell_type": "markdown",
   "metadata": {},
   "source": [
    "### Remove punctuation marks"
   ]
  },
  {
   "cell_type": "markdown",
   "metadata": {},
   "source": []
  }
 ],
 "metadata": {
  "kernelspec": {
   "display_name": "base",
   "language": "python",
   "name": "python3"
  },
  "language_info": {
   "codemirror_mode": {
    "name": "ipython",
    "version": 3
   },
   "file_extension": ".py",
   "mimetype": "text/x-python",
   "name": "python",
   "nbconvert_exporter": "python",
   "pygments_lexer": "ipython3",
   "version": "3.9.16"
  },
  "orig_nbformat": 4
 },
 "nbformat": 4,
 "nbformat_minor": 2
}
